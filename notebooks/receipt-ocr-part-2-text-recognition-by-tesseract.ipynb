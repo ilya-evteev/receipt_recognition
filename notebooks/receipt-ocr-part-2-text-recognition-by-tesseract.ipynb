{
 "cells": [
  {
   "cell_type": "markdown",
   "metadata": {
    "papermill": {
     "duration": 0.015185,
     "end_time": "2020-10-07T09:26:53.048524",
     "exception": false,
     "start_time": "2020-10-07T09:26:53.033339",
     "status": "completed"
    },
    "tags": []
   },
   "source": [
    "# Receipt OCR notebook series: Problem definition\n",
    "\n",
    "> Given a arbitrary photo containing a receipt, extract grand total number\n",
    "\n",
    "![](https://storage.googleapis.com/www.forwardit.lv/kaggle/receipt_home_kaggle.png)\n",
    "\n",
    "The solution is divided into smaller tasks:\n",
    "\n",
    "1. Get a scanned version of receipt by restoring perspective (done in the [previous notebook](https://www.kaggle.com/dmitryyemelyanov/receipt-ocr-part-1-image-segmentation-by-opencv))\n",
    "2. **Apply OCR to find all texts within image**\n",
    "3. **Find grand total as the largest number among recognized texts**\n",
    "\n",
    "> One should remember that some tasks could be solved with traditional computer vision algorithms\n",
    "\n",
    "This work aims to address a common pitfall among machine learning practitioners: trying to solve simple problems with the complex tools. "
   ]
  },
  {
   "cell_type": "markdown",
   "metadata": {
    "papermill": {
     "duration": 0.013547,
     "end_time": "2020-10-07T09:26:53.076791",
     "exception": false,
     "start_time": "2020-10-07T09:26:53.063244",
     "status": "completed"
    },
    "tags": []
   },
   "source": [
    "# About this notebook\n",
    "\n",
    "This is a **part two notebook** in the *Receipt OCR with OpenCV* series. [Previously](https://www.kaggle.com/dmitryyemelyanov/receipt-ocr-part-1-image-segmentation-by-opencv) we have extracted a scanned version of the receipt out of the image. This notebook deals with the second step of the process: reading text information from it.\n",
    "* Locating text boxes on the image\n",
    "* Extracting all the texts from the image\n",
    "* Obtaining grand total as the largest floating point number among texts\n",
    "\n",
    "Let's get started!"
   ]
  },
  {
   "cell_type": "code",
   "execution_count": 1,
   "metadata": {
    "execution": {
     "iopub.execute_input": "2020-10-07T09:26:53.111081Z",
     "iopub.status.busy": "2020-10-07T09:26:53.110328Z",
     "iopub.status.idle": "2020-10-07T09:26:53.413541Z",
     "shell.execute_reply": "2020-10-07T09:26:53.412801Z"
    },
    "papermill": {
     "duration": 0.322963,
     "end_time": "2020-10-07T09:26:53.413673",
     "exception": false,
     "start_time": "2020-10-07T09:26:53.090710",
     "status": "completed"
    },
    "tags": [],
    "ExecuteTime": {
     "end_time": "2023-07-28T05:02:34.824253700Z",
     "start_time": "2023-07-28T05:02:17.100648800Z"
    }
   },
   "outputs": [
    {
     "ename": "ModuleNotFoundError",
     "evalue": "No module named 'cv2'",
     "output_type": "error",
     "traceback": [
      "\u001B[1;31m---------------------------------------------------------------------------\u001B[0m",
      "\u001B[1;31mModuleNotFoundError\u001B[0m                       Traceback (most recent call last)",
      "Input \u001B[1;32mIn [1]\u001B[0m, in \u001B[0;36m<cell line: 2>\u001B[1;34m()\u001B[0m\n\u001B[0;32m      1\u001B[0m \u001B[38;5;28;01mimport\u001B[39;00m \u001B[38;5;21;01mnumpy\u001B[39;00m \u001B[38;5;28;01mas\u001B[39;00m \u001B[38;5;21;01mnp\u001B[39;00m\n\u001B[1;32m----> 2\u001B[0m \u001B[38;5;28;01mimport\u001B[39;00m \u001B[38;5;21;01mcv2\u001B[39;00m\n\u001B[0;32m      3\u001B[0m \u001B[38;5;28;01mimport\u001B[39;00m \u001B[38;5;21;01mmatplotlib\u001B[39;00m\u001B[38;5;21;01m.\u001B[39;00m\u001B[38;5;21;01mpyplot\u001B[39;00m \u001B[38;5;28;01mas\u001B[39;00m \u001B[38;5;21;01mplt\u001B[39;00m\n\u001B[0;32m      4\u001B[0m \u001B[38;5;28;01mimport\u001B[39;00m \u001B[38;5;21;01mpytesseract\u001B[39;00m\n",
      "\u001B[1;31mModuleNotFoundError\u001B[0m: No module named 'cv2'"
     ]
    }
   ],
   "source": [
    "import numpy as np\n",
    "import cv2\n",
    "import matplotlib.pyplot as plt\n",
    "import pytesseract\n",
    "import re\n",
    "\n",
    "from pytesseract import Output"
   ]
  },
  {
   "cell_type": "markdown",
   "metadata": {
    "papermill": {
     "duration": 0.013743,
     "end_time": "2020-10-07T09:26:53.441842",
     "exception": false,
     "start_time": "2020-10-07T09:26:53.428099",
     "status": "completed"
    },
    "tags": []
   },
   "source": [
    "Defining helper methods:"
   ]
  },
  {
   "cell_type": "code",
   "execution_count": null,
   "metadata": {
    "execution": {
     "iopub.execute_input": "2020-10-07T09:26:53.476421Z",
     "iopub.status.busy": "2020-10-07T09:26:53.475646Z",
     "iopub.status.idle": "2020-10-07T09:26:53.479669Z",
     "shell.execute_reply": "2020-10-07T09:26:53.478948Z"
    },
    "papermill": {
     "duration": 0.023984,
     "end_time": "2020-10-07T09:26:53.479792",
     "exception": false,
     "start_time": "2020-10-07T09:26:53.455808",
     "status": "completed"
    },
    "tags": []
   },
   "outputs": [],
   "source": [
    "def plot_gray(image):\n",
    "    plt.figure(figsize=(16,10))\n",
    "    return plt.imshow(image, cmap='Greys_r')"
   ]
  },
  {
   "cell_type": "code",
   "execution_count": null,
   "metadata": {
    "execution": {
     "iopub.execute_input": "2020-10-07T09:26:53.516985Z",
     "iopub.status.busy": "2020-10-07T09:26:53.516215Z",
     "iopub.status.idle": "2020-10-07T09:26:53.519408Z",
     "shell.execute_reply": "2020-10-07T09:26:53.518691Z"
    },
    "papermill": {
     "duration": 0.023969,
     "end_time": "2020-10-07T09:26:53.519534",
     "exception": false,
     "start_time": "2020-10-07T09:26:53.495565",
     "status": "completed"
    },
    "tags": []
   },
   "outputs": [],
   "source": [
    "def plot_rgb(image):\n",
    "    plt.figure(figsize=(16,10))\n",
    "    return plt.imshow(cv2.cvtColor(image, cv2.COLOR_BGR2RGB))"
   ]
  },
  {
   "cell_type": "markdown",
   "metadata": {
    "papermill": {
     "duration": 0.014074,
     "end_time": "2020-10-07T09:26:53.547951",
     "exception": false,
     "start_time": "2020-10-07T09:26:53.533877",
     "status": "completed"
    },
    "tags": []
   },
   "source": [
    "We will use a scanned version of the receipt, which is the output of the [previous notebook in the series](https://www.kaggle.com/dmitryyemelyanov/receipt-ocr-part-1-image-segmentation-by-opencv):"
   ]
  },
  {
   "cell_type": "code",
   "execution_count": null,
   "metadata": {
    "execution": {
     "iopub.execute_input": "2020-10-07T09:26:53.582517Z",
     "iopub.status.busy": "2020-10-07T09:26:53.581589Z",
     "iopub.status.idle": "2020-10-07T09:26:54.228244Z",
     "shell.execute_reply": "2020-10-07T09:26:54.228829Z"
    },
    "papermill": {
     "duration": 0.66661,
     "end_time": "2020-10-07T09:26:54.228988",
     "exception": false,
     "start_time": "2020-10-07T09:26:53.562378",
     "status": "completed"
    },
    "tags": []
   },
   "outputs": [],
   "source": [
    "file_name = \"/kaggle/input/receipt-ocr-part-1-image-segmentation-by-opencv/result.png\"\n",
    "image = cv2.imread(file_name, cv2.IMREAD_GRAYSCALE) \n",
    "plot_gray(image)"
   ]
  },
  {
   "cell_type": "markdown",
   "metadata": {
    "papermill": {
     "duration": 0.019348,
     "end_time": "2020-10-07T09:26:54.268526",
     "exception": false,
     "start_time": "2020-10-07T09:26:54.249178",
     "status": "completed"
    },
    "tags": []
   },
   "source": [
    "# Step 1: Text box detection"
   ]
  },
  {
   "cell_type": "code",
   "execution_count": null,
   "metadata": {
    "execution": {
     "iopub.execute_input": "2020-10-07T09:26:54.318476Z",
     "iopub.status.busy": "2020-10-07T09:26:54.317715Z",
     "iopub.status.idle": "2020-10-07T09:26:57.804586Z",
     "shell.execute_reply": "2020-10-07T09:26:57.805175Z"
    },
    "papermill": {
     "duration": 3.517054,
     "end_time": "2020-10-07T09:26:57.805332",
     "exception": false,
     "start_time": "2020-10-07T09:26:54.288278",
     "status": "completed"
    },
    "tags": []
   },
   "outputs": [],
   "source": [
    "d = pytesseract.image_to_data(image, output_type=Output.DICT)\n",
    "n_boxes = len(d['level'])\n",
    "boxes = cv2.cvtColor(image.copy(), cv2.COLOR_BGR2RGB)\n",
    "for i in range(n_boxes):\n",
    "    (x, y, w, h) = (d['left'][i], d['top'][i], d['width'][i], d['height'][i])    \n",
    "    boxes = cv2.rectangle(boxes, (x, y), (x + w, y + h), (0, 255, 0), 2)\n",
    "    \n",
    "plot_rgb(boxes)"
   ]
  },
  {
   "cell_type": "markdown",
   "metadata": {
    "papermill": {
     "duration": 0.024972,
     "end_time": "2020-10-07T09:26:57.855523",
     "exception": false,
     "start_time": "2020-10-07T09:26:57.830551",
     "status": "completed"
    },
    "tags": []
   },
   "source": [
    "# Step 2: Text recognition"
   ]
  },
  {
   "cell_type": "code",
   "execution_count": null,
   "metadata": {
    "execution": {
     "iopub.execute_input": "2020-10-07T09:26:57.912790Z",
     "iopub.status.busy": "2020-10-07T09:26:57.911639Z",
     "iopub.status.idle": "2020-10-07T09:27:00.468979Z",
     "shell.execute_reply": "2020-10-07T09:27:00.468094Z"
    },
    "papermill": {
     "duration": 2.588411,
     "end_time": "2020-10-07T09:27:00.469168",
     "exception": false,
     "start_time": "2020-10-07T09:26:57.880757",
     "status": "completed"
    },
    "tags": []
   },
   "outputs": [],
   "source": [
    "extracted_text = pytesseract.image_to_string(image)\n",
    "print(extracted_text)"
   ]
  },
  {
   "cell_type": "markdown",
   "metadata": {
    "papermill": {
     "duration": 0.026577,
     "end_time": "2020-10-07T09:27:00.524303",
     "exception": false,
     "start_time": "2020-10-07T09:27:00.497726",
     "status": "completed"
    },
    "tags": []
   },
   "source": [
    "# Step 3: Extracting grand total\n",
    "\n",
    "We will use regular expression to extract all floating point numbers out of the all detected texts."
   ]
  },
  {
   "cell_type": "code",
   "execution_count": null,
   "metadata": {
    "execution": {
     "iopub.execute_input": "2020-10-07T09:27:00.586655Z",
     "iopub.status.busy": "2020-10-07T09:27:00.585692Z",
     "iopub.status.idle": "2020-10-07T09:27:00.589218Z",
     "shell.execute_reply": "2020-10-07T09:27:00.588603Z"
    },
    "papermill": {
     "duration": 0.03758,
     "end_time": "2020-10-07T09:27:00.589348",
     "exception": false,
     "start_time": "2020-10-07T09:27:00.551768",
     "status": "completed"
    },
    "tags": []
   },
   "outputs": [],
   "source": [
    "def find_amounts(text):\n",
    "    amounts = re.findall(r'\\d+\\.\\d{2}\\b', text)\n",
    "    floats = [float(amount) for amount in amounts]\n",
    "    unique = list(dict.fromkeys(floats))\n",
    "    return unique"
   ]
  },
  {
   "cell_type": "code",
   "execution_count": null,
   "metadata": {
    "execution": {
     "iopub.execute_input": "2020-10-07T09:27:00.650121Z",
     "iopub.status.busy": "2020-10-07T09:27:00.648912Z",
     "iopub.status.idle": "2020-10-07T09:27:00.653638Z",
     "shell.execute_reply": "2020-10-07T09:27:00.654211Z"
    },
    "papermill": {
     "duration": 0.038046,
     "end_time": "2020-10-07T09:27:00.654378",
     "exception": false,
     "start_time": "2020-10-07T09:27:00.616332",
     "status": "completed"
    },
    "tags": []
   },
   "outputs": [],
   "source": [
    "amounts = find_amounts(extracted_text)\n",
    "amounts"
   ]
  },
  {
   "cell_type": "markdown",
   "metadata": {
    "papermill": {
     "duration": 0.027238,
     "end_time": "2020-10-07T09:27:00.709760",
     "exception": false,
     "start_time": "2020-10-07T09:27:00.682522",
     "status": "completed"
    },
    "tags": []
   },
   "source": [
    "Grand total is the largest one:"
   ]
  },
  {
   "cell_type": "code",
   "execution_count": null,
   "metadata": {
    "execution": {
     "iopub.execute_input": "2020-10-07T09:27:00.771388Z",
     "iopub.status.busy": "2020-10-07T09:27:00.770417Z",
     "iopub.status.idle": "2020-10-07T09:27:00.775433Z",
     "shell.execute_reply": "2020-10-07T09:27:00.774823Z"
    },
    "papermill": {
     "duration": 0.038365,
     "end_time": "2020-10-07T09:27:00.775566",
     "exception": false,
     "start_time": "2020-10-07T09:27:00.737201",
     "status": "completed"
    },
    "tags": []
   },
   "outputs": [],
   "source": [
    "max(amounts)"
   ]
  },
  {
   "cell_type": "markdown",
   "metadata": {
    "papermill": {
     "duration": 0.028001,
     "end_time": "2020-10-07T09:27:00.832222",
     "exception": false,
     "start_time": "2020-10-07T09:27:00.804221",
     "status": "completed"
    },
    "tags": []
   },
   "source": [
    "Feel free to experiment with other regular expressions to find VAT number, company name, date or even read receipt positions!"
   ]
  },
  {
   "cell_type": "markdown",
   "metadata": {
    "papermill": {
     "duration": 0.028033,
     "end_time": "2020-10-07T09:27:00.888988",
     "exception": false,
     "start_time": "2020-10-07T09:27:00.860955",
     "status": "completed"
    },
    "tags": []
   },
   "source": [
    "# About the Author\n",
    "\n",
    "This notebook is published under the **Data Science DJ** initiative with the goal of giving you distilled pieces of valuable information, short and concise, easy to comprehend. \n",
    "\n",
    "I spend a few hours every day to write a single post about a single concept. You can find them by:\n",
    "\n",
    "* [Joining my Telegram channel](https://t.me/datasciencedj)\n",
    "* [Following my LinkedIn tag](https://www.linkedin.com/feed/hashtag/?keywords=datasciencedj)\n",
    "\n",
    "If this work gives you joy, or maybe even inspiration, please consider contributing to my [Patreon account](https://www.patreon.com/datasciencedj).\n",
    "Thank you!"
   ]
  },
  {
   "cell_type": "markdown",
   "metadata": {
    "papermill": {
     "duration": 0.02822,
     "end_time": "2020-10-07T09:27:00.945706",
     "exception": false,
     "start_time": "2020-10-07T09:27:00.917486",
     "status": "completed"
    },
    "tags": []
   },
   "source": [
    "# Resources\n",
    "\n",
    "1. [OCR a document, form, or invoice with Tesseract, OpenCV, and Python](https://www.pyimagesearch.com/2020/09/07/ocr-a-document-form-or-invoice-with-tesseract-opencv-and-python/) by Adrian Rosebrock\n",
    "2. [Text Detection and Extraction using OpenCV and OCR](https://www.geeksforgeeks.org/text-detection-and-extraction-using-opencv-and-ocr/) by Anandh Jagadeesan\n",
    "3. [A comprehensive guide to OCR with Tesseract, OpenCV and Python](https://nanonets.com/blog/ocr-with-tesseract/) by Filip Zelic & Anuj Sable"
   ]
  }
 ],
 "metadata": {
  "kernelspec": {
   "display_name": "Python 3",
   "language": "python",
   "name": "python3"
  },
  "language_info": {
   "codemirror_mode": {
    "name": "ipython",
    "version": 3
   },
   "file_extension": ".py",
   "mimetype": "text/x-python",
   "name": "python",
   "nbconvert_exporter": "python",
   "pygments_lexer": "ipython3",
   "version": "3.7.6"
  },
  "papermill": {
   "duration": 12.902718,
   "end_time": "2020-10-07T09:27:01.082768",
   "environment_variables": {},
   "exception": null,
   "input_path": "__notebook__.ipynb",
   "output_path": "__notebook__.ipynb",
   "parameters": {},
   "start_time": "2020-10-07T09:26:48.180050",
   "version": "2.1.0"
  }
 },
 "nbformat": 4,
 "nbformat_minor": 4
}
