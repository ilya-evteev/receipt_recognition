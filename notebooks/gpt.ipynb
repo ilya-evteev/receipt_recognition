{
 "cells": [
  {
   "cell_type": "code",
   "execution_count": 1,
   "outputs": [],
   "source": [
    "import os\n",
    "import openai"
   ],
   "metadata": {
    "collapsed": false,
    "ExecuteTime": {
     "end_time": "2023-07-28T11:17:51.027337800Z",
     "start_time": "2023-07-28T11:17:50.315242100Z"
    }
   }
  },
  {
   "cell_type": "code",
   "execution_count": 2,
   "outputs": [],
   "source": [
    "# openai.organization = \"YOUR_ORG_ID\"\n",
    "openai.api_key = os.getenv(\"OPENAI_API_KEY\")"
   ],
   "metadata": {
    "collapsed": false,
    "ExecuteTime": {
     "end_time": "2023-07-28T11:17:51.044294300Z",
     "start_time": "2023-07-28T11:17:51.028335Z"
    }
   }
  },
  {
   "cell_type": "code",
   "execution_count": 3,
   "outputs": [
    {
     "data": {
      "text/plain": "<OpenAIObject list at 0x151b29c2360> JSON: {\n  \"object\": \"list\",\n  \"data\": [\n    {\n      \"id\": \"babbage\",\n      \"object\": \"model\",\n      \"created\": 1649358449,\n      \"owned_by\": \"openai\",\n      \"permission\": [\n        {\n          \"id\": \"modelperm-49FUp5v084tBB49tC4z8LPH5\",\n          \"object\": \"model_permission\",\n          \"created\": 1669085501,\n          \"allow_create_engine\": false,\n          \"allow_sampling\": true,\n          \"allow_logprobs\": true,\n          \"allow_search_indices\": false,\n          \"allow_view\": true,\n          \"allow_fine_tuning\": false,\n          \"organization\": \"*\",\n          \"group\": null,\n          \"is_blocking\": false\n        }\n      ],\n      \"root\": \"babbage\",\n      \"parent\": null\n    },\n    {\n      \"id\": \"text-davinci-003\",\n      \"object\": \"model\",\n      \"created\": 1669599635,\n      \"owned_by\": \"openai-internal\",\n      \"permission\": [\n        {\n          \"id\": \"modelperm-jepinXYt59ncUQrjQEIUEDyC\",\n          \"object\": \"model_permission\",\n          \"created\": 1688551385,\n          \"allow_create_engine\": false,\n          \"allow_sampling\": true,\n          \"allow_logprobs\": true,\n          \"allow_search_indices\": false,\n          \"allow_view\": true,\n          \"allow_fine_tuning\": false,\n          \"organization\": \"*\",\n          \"group\": null,\n          \"is_blocking\": false\n        }\n      ],\n      \"root\": \"text-davinci-003\",\n      \"parent\": null\n    },\n    {\n      \"id\": \"davinci\",\n      \"object\": \"model\",\n      \"created\": 1649359874,\n      \"owned_by\": \"openai\",\n      \"permission\": [\n        {\n          \"id\": \"modelperm-U6ZwlyAd0LyMk4rcMdz33Yc3\",\n          \"object\": \"model_permission\",\n          \"created\": 1669066355,\n          \"allow_create_engine\": false,\n          \"allow_sampling\": true,\n          \"allow_logprobs\": true,\n          \"allow_search_indices\": false,\n          \"allow_view\": true,\n          \"allow_fine_tuning\": false,\n          \"organization\": \"*\",\n          \"group\": null,\n          \"is_blocking\": false\n        }\n      ],\n      \"root\": \"davinci\",\n      \"parent\": null\n    },\n    {\n      \"id\": \"text-davinci-edit-001\",\n      \"object\": \"model\",\n      \"created\": 1649809179,\n      \"owned_by\": \"openai\",\n      \"permission\": [\n        {\n          \"id\": \"modelperm-otmQSS0hmabtVGHI9QB3bct3\",\n          \"object\": \"model_permission\",\n          \"created\": 1679934178,\n          \"allow_create_engine\": false,\n          \"allow_sampling\": true,\n          \"allow_logprobs\": true,\n          \"allow_search_indices\": false,\n          \"allow_view\": true,\n          \"allow_fine_tuning\": false,\n          \"organization\": \"*\",\n          \"group\": null,\n          \"is_blocking\": false\n        }\n      ],\n      \"root\": \"text-davinci-edit-001\",\n      \"parent\": null\n    },\n    {\n      \"id\": \"babbage-code-search-code\",\n      \"object\": \"model\",\n      \"created\": 1651172509,\n      \"owned_by\": \"openai-dev\",\n      \"permission\": [\n        {\n          \"id\": \"modelperm-4qRnA3Hj8HIJbgo0cGbcmErn\",\n          \"object\": \"model_permission\",\n          \"created\": 1669085863,\n          \"allow_create_engine\": false,\n          \"allow_sampling\": true,\n          \"allow_logprobs\": true,\n          \"allow_search_indices\": true,\n          \"allow_view\": true,\n          \"allow_fine_tuning\": false,\n          \"organization\": \"*\",\n          \"group\": null,\n          \"is_blocking\": false\n        }\n      ],\n      \"root\": \"babbage-code-search-code\",\n      \"parent\": null\n    },\n    {\n      \"id\": \"text-similarity-babbage-001\",\n      \"object\": \"model\",\n      \"created\": 1651172505,\n      \"owned_by\": \"openai-dev\",\n      \"permission\": [\n        {\n          \"id\": \"modelperm-48kcCHhfzvnfY84OtJf5m8Cz\",\n          \"object\": \"model_permission\",\n          \"created\": 1669081947,\n          \"allow_create_engine\": false,\n          \"allow_sampling\": true,\n          \"allow_logprobs\": true,\n          \"allow_search_indices\": true,\n          \"allow_view\": true,\n          \"allow_fine_tuning\": false,\n          \"organization\": \"*\",\n          \"group\": null,\n          \"is_blocking\": false\n        }\n      ],\n      \"root\": \"text-similarity-babbage-001\",\n      \"parent\": null\n    },\n    {\n      \"id\": \"code-davinci-edit-001\",\n      \"object\": \"model\",\n      \"created\": 1649880484,\n      \"owned_by\": \"openai\",\n      \"permission\": [\n        {\n          \"id\": \"modelperm-Foe5Y4TvaKveYxt74oKMw8IB\",\n          \"object\": \"model_permission\",\n          \"created\": 1679934178,\n          \"allow_create_engine\": false,\n          \"allow_sampling\": true,\n          \"allow_logprobs\": true,\n          \"allow_search_indices\": false,\n          \"allow_view\": true,\n          \"allow_fine_tuning\": false,\n          \"organization\": \"*\",\n          \"group\": null,\n          \"is_blocking\": false\n        }\n      ],\n      \"root\": \"code-davinci-edit-001\",\n      \"parent\": null\n    },\n    {\n      \"id\": \"ada\",\n      \"object\": \"model\",\n      \"created\": 1649357491,\n      \"owned_by\": \"openai\",\n      \"permission\": [\n        {\n          \"id\": \"modelperm-u0nKN4ub7EVQudgMuvCuvDjc\",\n          \"object\": \"model_permission\",\n          \"created\": 1675997661,\n          \"allow_create_engine\": false,\n          \"allow_sampling\": true,\n          \"allow_logprobs\": true,\n          \"allow_search_indices\": false,\n          \"allow_view\": true,\n          \"allow_fine_tuning\": false,\n          \"organization\": \"*\",\n          \"group\": null,\n          \"is_blocking\": false\n        }\n      ],\n      \"root\": \"ada\",\n      \"parent\": null\n    },\n    {\n      \"id\": \"babbage-code-search-text\",\n      \"object\": \"model\",\n      \"created\": 1651172509,\n      \"owned_by\": \"openai-dev\",\n      \"permission\": [\n        {\n          \"id\": \"modelperm-Lftf8H4ZPDxNxVs0hHPJBUoe\",\n          \"object\": \"model_permission\",\n          \"created\": 1669085863,\n          \"allow_create_engine\": false,\n          \"allow_sampling\": true,\n          \"allow_logprobs\": true,\n          \"allow_search_indices\": true,\n          \"allow_view\": true,\n          \"allow_fine_tuning\": false,\n          \"organization\": \"*\",\n          \"group\": null,\n          \"is_blocking\": false\n        }\n      ],\n      \"root\": \"babbage-code-search-text\",\n      \"parent\": null\n    },\n    {\n      \"id\": \"babbage-similarity\",\n      \"object\": \"model\",\n      \"created\": 1651172505,\n      \"owned_by\": \"openai-dev\",\n      \"permission\": [\n        {\n          \"id\": \"modelperm-mS20lnPqhebTaFPrcCufyg7m\",\n          \"object\": \"model_permission\",\n          \"created\": 1669081947,\n          \"allow_create_engine\": false,\n          \"allow_sampling\": true,\n          \"allow_logprobs\": true,\n          \"allow_search_indices\": true,\n          \"allow_view\": true,\n          \"allow_fine_tuning\": false,\n          \"organization\": \"*\",\n          \"group\": null,\n          \"is_blocking\": false\n        }\n      ],\n      \"root\": \"babbage-similarity\",\n      \"parent\": null\n    },\n    {\n      \"id\": \"gpt-3.5-turbo-16k-0613\",\n      \"object\": \"model\",\n      \"created\": 1685474247,\n      \"owned_by\": \"openai\",\n      \"permission\": [\n        {\n          \"id\": \"modelperm-ZY0iXVEnYcuTmNTeVNoZLg0n\",\n          \"object\": \"model_permission\",\n          \"created\": 1688692724,\n          \"allow_create_engine\": false,\n          \"allow_sampling\": true,\n          \"allow_logprobs\": true,\n          \"allow_search_indices\": false,\n          \"allow_view\": true,\n          \"allow_fine_tuning\": false,\n          \"organization\": \"*\",\n          \"group\": null,\n          \"is_blocking\": false\n        }\n      ],\n      \"root\": \"gpt-3.5-turbo-16k-0613\",\n      \"parent\": null\n    },\n    {\n      \"id\": \"code-search-babbage-text-001\",\n      \"object\": \"model\",\n      \"created\": 1651172507,\n      \"owned_by\": \"openai-dev\",\n      \"permission\": [\n        {\n          \"id\": \"modelperm-EC5ASz4NLChtEV1Cwkmrwm57\",\n          \"object\": \"model_permission\",\n          \"created\": 1669085863,\n          \"allow_create_engine\": false,\n          \"allow_sampling\": true,\n          \"allow_logprobs\": true,\n          \"allow_search_indices\": true,\n          \"allow_view\": true,\n          \"allow_fine_tuning\": false,\n          \"organization\": \"*\",\n          \"group\": null,\n          \"is_blocking\": false\n        }\n      ],\n      \"root\": \"code-search-babbage-text-001\",\n      \"parent\": null\n    },\n    {\n      \"id\": \"text-curie-001\",\n      \"object\": \"model\",\n      \"created\": 1649364043,\n      \"owned_by\": \"openai\",\n      \"permission\": [\n        {\n          \"id\": \"modelperm-8InhPV3CZfN3F5QHKoJd4zRD\",\n          \"object\": \"model_permission\",\n          \"created\": 1679310997,\n          \"allow_create_engine\": false,\n          \"allow_sampling\": true,\n          \"allow_logprobs\": true,\n          \"allow_search_indices\": false,\n          \"allow_view\": true,\n          \"allow_fine_tuning\": false,\n          \"organization\": \"*\",\n          \"group\": null,\n          \"is_blocking\": false\n        }\n      ],\n      \"root\": \"text-curie-001\",\n      \"parent\": null\n    },\n    {\n      \"id\": \"gpt-3.5-turbo-0301\",\n      \"object\": \"model\",\n      \"created\": 1677649963,\n      \"owned_by\": \"openai\",\n      \"permission\": [\n        {\n          \"id\": \"modelperm-TBa0NeEwCp3BQtV3fxDVx2fs\",\n          \"object\": \"model_permission\",\n          \"created\": 1689207811,\n          \"allow_create_engine\": false,\n          \"allow_sampling\": true,\n          \"allow_logprobs\": true,\n          \"allow_search_indices\": false,\n          \"allow_view\": true,\n          \"allow_fine_tuning\": false,\n          \"organization\": \"*\",\n          \"group\": null,\n          \"is_blocking\": false\n        }\n      ],\n      \"root\": \"gpt-3.5-turbo-0301\",\n      \"parent\": null\n    },\n    {\n      \"id\": \"gpt-3.5-turbo-16k\",\n      \"object\": \"model\",\n      \"created\": 1683758102,\n      \"owned_by\": \"openai-internal\",\n      \"permission\": [\n        {\n          \"id\": \"modelperm-incf1vHEBCbZnCddTGBKniux\",\n          \"object\": \"model_permission\",\n          \"created\": 1688692820,\n          \"allow_create_engine\": false,\n          \"allow_sampling\": true,\n          \"allow_logprobs\": true,\n          \"allow_search_indices\": false,\n          \"allow_view\": true,\n          \"allow_fine_tuning\": false,\n          \"organization\": \"*\",\n          \"group\": null,\n          \"is_blocking\": false\n        }\n      ],\n      \"root\": \"gpt-3.5-turbo-16k\",\n      \"parent\": null\n    },\n    {\n      \"id\": \"code-search-babbage-code-001\",\n      \"object\": \"model\",\n      \"created\": 1651172507,\n      \"owned_by\": \"openai-dev\",\n      \"permission\": [\n        {\n          \"id\": \"modelperm-64LWHdlANgak2rHzc3K5Stt0\",\n          \"object\": \"model_permission\",\n          \"created\": 1669085864,\n          \"allow_create_engine\": false,\n          \"allow_sampling\": true,\n          \"allow_logprobs\": true,\n          \"allow_search_indices\": true,\n          \"allow_view\": true,\n          \"allow_fine_tuning\": false,\n          \"organization\": \"*\",\n          \"group\": null,\n          \"is_blocking\": false\n        }\n      ],\n      \"root\": \"code-search-babbage-code-001\",\n      \"parent\": null\n    },\n    {\n      \"id\": \"text-ada-001\",\n      \"object\": \"model\",\n      \"created\": 1649364042,\n      \"owned_by\": \"openai\",\n      \"permission\": [\n        {\n          \"id\": \"modelperm-KN5dRBCEW4az6gwcGXkRkMwK\",\n          \"object\": \"model_permission\",\n          \"created\": 1669088497,\n          \"allow_create_engine\": false,\n          \"allow_sampling\": true,\n          \"allow_logprobs\": true,\n          \"allow_search_indices\": false,\n          \"allow_view\": true,\n          \"allow_fine_tuning\": false,\n          \"organization\": \"*\",\n          \"group\": null,\n          \"is_blocking\": false\n        }\n      ],\n      \"root\": \"text-ada-001\",\n      \"parent\": null\n    },\n    {\n      \"id\": \"text-similarity-ada-001\",\n      \"object\": \"model\",\n      \"created\": 1651172505,\n      \"owned_by\": \"openai-dev\",\n      \"permission\": [\n        {\n          \"id\": \"modelperm-DdCqkqmORpqxqdg4TkFRAgmw\",\n          \"object\": \"model_permission\",\n          \"created\": 1669092759,\n          \"allow_create_engine\": false,\n          \"allow_sampling\": true,\n          \"allow_logprobs\": true,\n          \"allow_search_indices\": true,\n          \"allow_view\": true,\n          \"allow_fine_tuning\": false,\n          \"organization\": \"*\",\n          \"group\": null,\n          \"is_blocking\": false\n        }\n      ],\n      \"root\": \"text-similarity-ada-001\",\n      \"parent\": null\n    },\n    {\n      \"id\": \"text-davinci-002\",\n      \"object\": \"model\",\n      \"created\": 1649880484,\n      \"owned_by\": \"openai\",\n      \"permission\": [\n        {\n          \"id\": \"modelperm-umcJPEeEHthilws4q5TOhsoy\",\n          \"object\": \"model_permission\",\n          \"created\": 1689984045,\n          \"allow_create_engine\": false,\n          \"allow_sampling\": true,\n          \"allow_logprobs\": true,\n          \"allow_search_indices\": false,\n          \"allow_view\": true,\n          \"allow_fine_tuning\": false,\n          \"organization\": \"*\",\n          \"group\": null,\n          \"is_blocking\": false\n        }\n      ],\n      \"root\": \"text-davinci-002\",\n      \"parent\": null\n    },\n    {\n      \"id\": \"curie-instruct-beta\",\n      \"object\": \"model\",\n      \"created\": 1649364042,\n      \"owned_by\": \"openai\",\n      \"permission\": [\n        {\n          \"id\": \"modelperm-bsg59MlOi88CMf1MjnIKrT5a\",\n          \"object\": \"model_permission\",\n          \"created\": 1680267269,\n          \"allow_create_engine\": false,\n          \"allow_sampling\": true,\n          \"allow_logprobs\": true,\n          \"allow_search_indices\": false,\n          \"allow_view\": true,\n          \"allow_fine_tuning\": false,\n          \"organization\": \"*\",\n          \"group\": null,\n          \"is_blocking\": false\n        }\n      ],\n      \"root\": \"curie-instruct-beta\",\n      \"parent\": null\n    },\n    {\n      \"id\": \"ada-code-search-code\",\n      \"object\": \"model\",\n      \"created\": 1651172505,\n      \"owned_by\": \"openai-dev\",\n      \"permission\": [\n        {\n          \"id\": \"modelperm-wa8tg4Pi9QQNaWdjMTM8dkkx\",\n          \"object\": \"model_permission\",\n          \"created\": 1669087421,\n          \"allow_create_engine\": false,\n          \"allow_sampling\": true,\n          \"allow_logprobs\": true,\n          \"allow_search_indices\": true,\n          \"allow_view\": true,\n          \"allow_fine_tuning\": false,\n          \"organization\": \"*\",\n          \"group\": null,\n          \"is_blocking\": false\n        }\n      ],\n      \"root\": \"ada-code-search-code\",\n      \"parent\": null\n    },\n    {\n      \"id\": \"ada-similarity\",\n      \"object\": \"model\",\n      \"created\": 1651172507,\n      \"owned_by\": \"openai-dev\",\n      \"permission\": [\n        {\n          \"id\": \"modelperm-LtSIwCEReeDcvGTmM13gv6Fg\",\n          \"object\": \"model_permission\",\n          \"created\": 1669092759,\n          \"allow_create_engine\": false,\n          \"allow_sampling\": true,\n          \"allow_logprobs\": true,\n          \"allow_search_indices\": true,\n          \"allow_view\": true,\n          \"allow_fine_tuning\": false,\n          \"organization\": \"*\",\n          \"group\": null,\n          \"is_blocking\": false\n        }\n      ],\n      \"root\": \"ada-similarity\",\n      \"parent\": null\n    },\n    {\n      \"id\": \"code-search-ada-text-001\",\n      \"object\": \"model\",\n      \"created\": 1651172507,\n      \"owned_by\": \"openai-dev\",\n      \"permission\": [\n        {\n          \"id\": \"modelperm-JBssaJSmbgvJfTkX71y71k2J\",\n          \"object\": \"model_permission\",\n          \"created\": 1669087421,\n          \"allow_create_engine\": false,\n          \"allow_sampling\": true,\n          \"allow_logprobs\": true,\n          \"allow_search_indices\": true,\n          \"allow_view\": true,\n          \"allow_fine_tuning\": false,\n          \"organization\": \"*\",\n          \"group\": null,\n          \"is_blocking\": false\n        }\n      ],\n      \"root\": \"code-search-ada-text-001\",\n      \"parent\": null\n    },\n    {\n      \"id\": \"text-search-ada-query-001\",\n      \"object\": \"model\",\n      \"created\": 1651172505,\n      \"owned_by\": \"openai-dev\",\n      \"permission\": [\n        {\n          \"id\": \"modelperm-1YiiBMYC8it0mpQCBK7t8uSP\",\n          \"object\": \"model_permission\",\n          \"created\": 1669092640,\n          \"allow_create_engine\": false,\n          \"allow_sampling\": true,\n          \"allow_logprobs\": true,\n          \"allow_search_indices\": true,\n          \"allow_view\": true,\n          \"allow_fine_tuning\": false,\n          \"organization\": \"*\",\n          \"group\": null,\n          \"is_blocking\": false\n        }\n      ],\n      \"root\": \"text-search-ada-query-001\",\n      \"parent\": null\n    },\n    {\n      \"id\": \"davinci-search-document\",\n      \"object\": \"model\",\n      \"created\": 1651172509,\n      \"owned_by\": \"openai-dev\",\n      \"permission\": [\n        {\n          \"id\": \"modelperm-M43LVJQRGxz6ode34ctLrCaG\",\n          \"object\": \"model_permission\",\n          \"created\": 1669066355,\n          \"allow_create_engine\": false,\n          \"allow_sampling\": true,\n          \"allow_logprobs\": true,\n          \"allow_search_indices\": true,\n          \"allow_view\": true,\n          \"allow_fine_tuning\": false,\n          \"organization\": \"*\",\n          \"group\": null,\n          \"is_blocking\": false\n        }\n      ],\n      \"root\": \"davinci-search-document\",\n      \"parent\": null\n    },\n    {\n      \"id\": \"whisper-1\",\n      \"object\": \"model\",\n      \"created\": 1677532384,\n      \"owned_by\": \"openai-internal\",\n      \"permission\": [\n        {\n          \"id\": \"modelperm-NaLm8yrC8jCK4eOqy5Z8v1yw\",\n          \"object\": \"model_permission\",\n          \"created\": 1690394987,\n          \"allow_create_engine\": false,\n          \"allow_sampling\": true,\n          \"allow_logprobs\": true,\n          \"allow_search_indices\": false,\n          \"allow_view\": true,\n          \"allow_fine_tuning\": false,\n          \"organization\": \"*\",\n          \"group\": null,\n          \"is_blocking\": false\n        }\n      ],\n      \"root\": \"whisper-1\",\n      \"parent\": null\n    },\n    {\n      \"id\": \"ada-code-search-text\",\n      \"object\": \"model\",\n      \"created\": 1651172510,\n      \"owned_by\": \"openai-dev\",\n      \"permission\": [\n        {\n          \"id\": \"modelperm-kFc17wOI4d1FjZEaCqnk4Frg\",\n          \"object\": \"model_permission\",\n          \"created\": 1669087421,\n          \"allow_create_engine\": false,\n          \"allow_sampling\": true,\n          \"allow_logprobs\": true,\n          \"allow_search_indices\": true,\n          \"allow_view\": true,\n          \"allow_fine_tuning\": false,\n          \"organization\": \"*\",\n          \"group\": null,\n          \"is_blocking\": false\n        }\n      ],\n      \"root\": \"ada-code-search-text\",\n      \"parent\": null\n    },\n    {\n      \"id\": \"text-search-ada-doc-001\",\n      \"object\": \"model\",\n      \"created\": 1651172507,\n      \"owned_by\": \"openai-dev\",\n      \"permission\": [\n        {\n          \"id\": \"modelperm-kbHvYouDlkD78ehcmMOGdKpK\",\n          \"object\": \"model_permission\",\n          \"created\": 1669092640,\n          \"allow_create_engine\": false,\n          \"allow_sampling\": true,\n          \"allow_logprobs\": true,\n          \"allow_search_indices\": true,\n          \"allow_view\": true,\n          \"allow_fine_tuning\": false,\n          \"organization\": \"*\",\n          \"group\": null,\n          \"is_blocking\": false\n        }\n      ],\n      \"root\": \"text-search-ada-doc-001\",\n      \"parent\": null\n    },\n    {\n      \"id\": \"davinci-instruct-beta\",\n      \"object\": \"model\",\n      \"created\": 1649364042,\n      \"owned_by\": \"openai\",\n      \"permission\": [\n        {\n          \"id\": \"modelperm-k9kuMYlfd9nvFiJV2ug0NWws\",\n          \"object\": \"model_permission\",\n          \"created\": 1669066356,\n          \"allow_create_engine\": false,\n          \"allow_sampling\": true,\n          \"allow_logprobs\": true,\n          \"allow_search_indices\": false,\n          \"allow_view\": true,\n          \"allow_fine_tuning\": false,\n          \"organization\": \"*\",\n          \"group\": null,\n          \"is_blocking\": false\n        }\n      ],\n      \"root\": \"davinci-instruct-beta\",\n      \"parent\": null\n    },\n    {\n      \"id\": \"text-similarity-curie-001\",\n      \"object\": \"model\",\n      \"created\": 1651172507,\n      \"owned_by\": \"openai-dev\",\n      \"permission\": [\n        {\n          \"id\": \"modelperm-6dgTTyXrZE7d53Licw4hYkvd\",\n          \"object\": \"model_permission\",\n          \"created\": 1669079883,\n          \"allow_create_engine\": false,\n          \"allow_sampling\": true,\n          \"allow_logprobs\": true,\n          \"allow_search_indices\": true,\n          \"allow_view\": true,\n          \"allow_fine_tuning\": false,\n          \"organization\": \"*\",\n          \"group\": null,\n          \"is_blocking\": false\n        }\n      ],\n      \"root\": \"text-similarity-curie-001\",\n      \"parent\": null\n    },\n    {\n      \"id\": \"code-search-ada-code-001\",\n      \"object\": \"model\",\n      \"created\": 1651172507,\n      \"owned_by\": \"openai-dev\",\n      \"permission\": [\n        {\n          \"id\": \"modelperm-8soch45iiGvux5Fg1ORjdC4s\",\n          \"object\": \"model_permission\",\n          \"created\": 1669087421,\n          \"allow_create_engine\": false,\n          \"allow_sampling\": true,\n          \"allow_logprobs\": true,\n          \"allow_search_indices\": true,\n          \"allow_view\": true,\n          \"allow_fine_tuning\": false,\n          \"organization\": \"*\",\n          \"group\": null,\n          \"is_blocking\": false\n        }\n      ],\n      \"root\": \"code-search-ada-code-001\",\n      \"parent\": null\n    },\n    {\n      \"id\": \"ada-search-query\",\n      \"object\": \"model\",\n      \"created\": 1651172505,\n      \"owned_by\": \"openai-dev\",\n      \"permission\": [\n        {\n          \"id\": \"modelperm-b753xmIzAUkluQ1L20eDZLtQ\",\n          \"object\": \"model_permission\",\n          \"created\": 1669092640,\n          \"allow_create_engine\": false,\n          \"allow_sampling\": true,\n          \"allow_logprobs\": true,\n          \"allow_search_indices\": true,\n          \"allow_view\": true,\n          \"allow_fine_tuning\": false,\n          \"organization\": \"*\",\n          \"group\": null,\n          \"is_blocking\": false\n        }\n      ],\n      \"root\": \"ada-search-query\",\n      \"parent\": null\n    },\n    {\n      \"id\": \"text-search-davinci-query-001\",\n      \"object\": \"model\",\n      \"created\": 1651172505,\n      \"owned_by\": \"openai-dev\",\n      \"permission\": [\n        {\n          \"id\": \"modelperm-9McKbsEYSaDshU9M3bp6ejUb\",\n          \"object\": \"model_permission\",\n          \"created\": 1669066353,\n          \"allow_create_engine\": false,\n          \"allow_sampling\": true,\n          \"allow_logprobs\": true,\n          \"allow_search_indices\": true,\n          \"allow_view\": true,\n          \"allow_fine_tuning\": false,\n          \"organization\": \"*\",\n          \"group\": null,\n          \"is_blocking\": false\n        }\n      ],\n      \"root\": \"text-search-davinci-query-001\",\n      \"parent\": null\n    },\n    {\n      \"id\": \"curie-search-query\",\n      \"object\": \"model\",\n      \"created\": 1651172509,\n      \"owned_by\": \"openai-dev\",\n      \"permission\": [\n        {\n          \"id\": \"modelperm-sIbfSwzVpVBtymQgOQSLBpxe\",\n          \"object\": \"model_permission\",\n          \"created\": 1677273417,\n          \"allow_create_engine\": false,\n          \"allow_sampling\": true,\n          \"allow_logprobs\": true,\n          \"allow_search_indices\": true,\n          \"allow_view\": true,\n          \"allow_fine_tuning\": false,\n          \"organization\": \"*\",\n          \"group\": null,\n          \"is_blocking\": false\n        }\n      ],\n      \"root\": \"curie-search-query\",\n      \"parent\": null\n    },\n    {\n      \"id\": \"davinci-search-query\",\n      \"object\": \"model\",\n      \"created\": 1651172505,\n      \"owned_by\": \"openai-dev\",\n      \"permission\": [\n        {\n          \"id\": \"modelperm-lYkiTZMmJMWm8jvkPx2duyHE\",\n          \"object\": \"model_permission\",\n          \"created\": 1669066353,\n          \"allow_create_engine\": false,\n          \"allow_sampling\": true,\n          \"allow_logprobs\": true,\n          \"allow_search_indices\": true,\n          \"allow_view\": true,\n          \"allow_fine_tuning\": false,\n          \"organization\": \"*\",\n          \"group\": null,\n          \"is_blocking\": false\n        }\n      ],\n      \"root\": \"davinci-search-query\",\n      \"parent\": null\n    },\n    {\n      \"id\": \"babbage-search-document\",\n      \"object\": \"model\",\n      \"created\": 1651172510,\n      \"owned_by\": \"openai-dev\",\n      \"permission\": [\n        {\n          \"id\": \"modelperm-5qFV9kxCRGKIXpBEP75chmp7\",\n          \"object\": \"model_permission\",\n          \"created\": 1669084981,\n          \"allow_create_engine\": false,\n          \"allow_sampling\": true,\n          \"allow_logprobs\": true,\n          \"allow_search_indices\": true,\n          \"allow_view\": true,\n          \"allow_fine_tuning\": false,\n          \"organization\": \"*\",\n          \"group\": null,\n          \"is_blocking\": false\n        }\n      ],\n      \"root\": \"babbage-search-document\",\n      \"parent\": null\n    },\n    {\n      \"id\": \"ada-search-document\",\n      \"object\": \"model\",\n      \"created\": 1651172507,\n      \"owned_by\": \"openai-dev\",\n      \"permission\": [\n        {\n          \"id\": \"modelperm-8qUMuMAbo4EwedbGamV7e9hq\",\n          \"object\": \"model_permission\",\n          \"created\": 1669092640,\n          \"allow_create_engine\": false,\n          \"allow_sampling\": true,\n          \"allow_logprobs\": true,\n          \"allow_search_indices\": true,\n          \"allow_view\": true,\n          \"allow_fine_tuning\": false,\n          \"organization\": \"*\",\n          \"group\": null,\n          \"is_blocking\": false\n        }\n      ],\n      \"root\": \"ada-search-document\",\n      \"parent\": null\n    },\n    {\n      \"id\": \"text-search-curie-query-001\",\n      \"object\": \"model\",\n      \"created\": 1651172509,\n      \"owned_by\": \"openai-dev\",\n      \"permission\": [\n        {\n          \"id\": \"modelperm-Iion0NCpsXPNtIkQ0owQLi7V\",\n          \"object\": \"model_permission\",\n          \"created\": 1677273417,\n          \"allow_create_engine\": false,\n          \"allow_sampling\": true,\n          \"allow_logprobs\": true,\n          \"allow_search_indices\": true,\n          \"allow_view\": true,\n          \"allow_fine_tuning\": false,\n          \"organization\": \"*\",\n          \"group\": null,\n          \"is_blocking\": false\n        }\n      ],\n      \"root\": \"text-search-curie-query-001\",\n      \"parent\": null\n    },\n    {\n      \"id\": \"text-babbage-001\",\n      \"object\": \"model\",\n      \"created\": 1649364043,\n      \"owned_by\": \"openai\",\n      \"permission\": [\n        {\n          \"id\": \"modelperm-BPsgyXbRep9yvgF4SIL6JpMb\",\n          \"object\": \"model_permission\",\n          \"created\": 1690326323,\n          \"allow_create_engine\": false,\n          \"allow_sampling\": true,\n          \"allow_logprobs\": true,\n          \"allow_search_indices\": false,\n          \"allow_view\": true,\n          \"allow_fine_tuning\": false,\n          \"organization\": \"*\",\n          \"group\": null,\n          \"is_blocking\": false\n        }\n      ],\n      \"root\": \"text-babbage-001\",\n      \"parent\": null\n    },\n    {\n      \"id\": \"text-search-babbage-doc-001\",\n      \"object\": \"model\",\n      \"created\": 1651172509,\n      \"owned_by\": \"openai-dev\",\n      \"permission\": [\n        {\n          \"id\": \"modelperm-ao2r26P2Th7nhRFleHwy2gn5\",\n          \"object\": \"model_permission\",\n          \"created\": 1669084981,\n          \"allow_create_engine\": false,\n          \"allow_sampling\": true,\n          \"allow_logprobs\": true,\n          \"allow_search_indices\": true,\n          \"allow_view\": true,\n          \"allow_fine_tuning\": false,\n          \"organization\": \"*\",\n          \"group\": null,\n          \"is_blocking\": false\n        }\n      ],\n      \"root\": \"text-search-babbage-doc-001\",\n      \"parent\": null\n    },\n    {\n      \"id\": \"curie-search-document\",\n      \"object\": \"model\",\n      \"created\": 1651172508,\n      \"owned_by\": \"openai-dev\",\n      \"permission\": [\n        {\n          \"id\": \"modelperm-LDsN5wW8eKVuh1OsyciHntE9\",\n          \"object\": \"model_permission\",\n          \"created\": 1677273417,\n          \"allow_create_engine\": false,\n          \"allow_sampling\": true,\n          \"allow_logprobs\": true,\n          \"allow_search_indices\": true,\n          \"allow_view\": true,\n          \"allow_fine_tuning\": false,\n          \"organization\": \"*\",\n          \"group\": null,\n          \"is_blocking\": false\n        }\n      ],\n      \"root\": \"curie-search-document\",\n      \"parent\": null\n    },\n    {\n      \"id\": \"text-davinci-001\",\n      \"object\": \"model\",\n      \"created\": 1649364042,\n      \"owned_by\": \"openai\",\n      \"permission\": [\n        {\n          \"id\": \"modelperm-EI1lNhJ3qIekuovMlVrh2sI5\",\n          \"object\": \"model_permission\",\n          \"created\": 1690326338,\n          \"allow_create_engine\": false,\n          \"allow_sampling\": true,\n          \"allow_logprobs\": true,\n          \"allow_search_indices\": false,\n          \"allow_view\": true,\n          \"allow_fine_tuning\": false,\n          \"organization\": \"*\",\n          \"group\": null,\n          \"is_blocking\": false\n        }\n      ],\n      \"root\": \"text-davinci-001\",\n      \"parent\": null\n    },\n    {\n      \"id\": \"text-search-curie-doc-001\",\n      \"object\": \"model\",\n      \"created\": 1651172509,\n      \"owned_by\": \"openai-dev\",\n      \"permission\": [\n        {\n          \"id\": \"modelperm-taUGRSku7bQLa24SNIwYPEsi\",\n          \"object\": \"model_permission\",\n          \"created\": 1677273417,\n          \"allow_create_engine\": false,\n          \"allow_sampling\": true,\n          \"allow_logprobs\": true,\n          \"allow_search_indices\": true,\n          \"allow_view\": true,\n          \"allow_fine_tuning\": false,\n          \"organization\": \"*\",\n          \"group\": null,\n          \"is_blocking\": false\n        }\n      ],\n      \"root\": \"text-search-curie-doc-001\",\n      \"parent\": null\n    },\n    {\n      \"id\": \"babbage-search-query\",\n      \"object\": \"model\",\n      \"created\": 1651172509,\n      \"owned_by\": \"openai-dev\",\n      \"permission\": [\n        {\n          \"id\": \"modelperm-wSs1hMXDKsrcErlbN8HmzlLE\",\n          \"object\": \"model_permission\",\n          \"created\": 1669084981,\n          \"allow_create_engine\": false,\n          \"allow_sampling\": true,\n          \"allow_logprobs\": true,\n          \"allow_search_indices\": true,\n          \"allow_view\": true,\n          \"allow_fine_tuning\": false,\n          \"organization\": \"*\",\n          \"group\": null,\n          \"is_blocking\": false\n        }\n      ],\n      \"root\": \"babbage-search-query\",\n      \"parent\": null\n    },\n    {\n      \"id\": \"text-search-davinci-doc-001\",\n      \"object\": \"model\",\n      \"created\": 1651172505,\n      \"owned_by\": \"openai-dev\",\n      \"permission\": [\n        {\n          \"id\": \"modelperm-qhSf1j2MJMujcu3t7cHnF1DN\",\n          \"object\": \"model_permission\",\n          \"created\": 1669066353,\n          \"allow_create_engine\": false,\n          \"allow_sampling\": true,\n          \"allow_logprobs\": true,\n          \"allow_search_indices\": true,\n          \"allow_view\": true,\n          \"allow_fine_tuning\": false,\n          \"organization\": \"*\",\n          \"group\": null,\n          \"is_blocking\": false\n        }\n      ],\n      \"root\": \"text-search-davinci-doc-001\",\n      \"parent\": null\n    },\n    {\n      \"id\": \"text-search-babbage-query-001\",\n      \"object\": \"model\",\n      \"created\": 1651172509,\n      \"owned_by\": \"openai-dev\",\n      \"permission\": [\n        {\n          \"id\": \"modelperm-Kg70kkFxD93QQqsVe4Zw8vjc\",\n          \"object\": \"model_permission\",\n          \"created\": 1669084981,\n          \"allow_create_engine\": false,\n          \"allow_sampling\": true,\n          \"allow_logprobs\": true,\n          \"allow_search_indices\": true,\n          \"allow_view\": true,\n          \"allow_fine_tuning\": false,\n          \"organization\": \"*\",\n          \"group\": null,\n          \"is_blocking\": false\n        }\n      ],\n      \"root\": \"text-search-babbage-query-001\",\n      \"parent\": null\n    },\n    {\n      \"id\": \"curie-similarity\",\n      \"object\": \"model\",\n      \"created\": 1651172510,\n      \"owned_by\": \"openai-dev\",\n      \"permission\": [\n        {\n          \"id\": \"modelperm-zhWKExSloaQiJgzjVHFmh2wR\",\n          \"object\": \"model_permission\",\n          \"created\": 1675106290,\n          \"allow_create_engine\": false,\n          \"allow_sampling\": true,\n          \"allow_logprobs\": true,\n          \"allow_search_indices\": true,\n          \"allow_view\": true,\n          \"allow_fine_tuning\": false,\n          \"organization\": \"*\",\n          \"group\": null,\n          \"is_blocking\": false\n        }\n      ],\n      \"root\": \"curie-similarity\",\n      \"parent\": null\n    },\n    {\n      \"id\": \"text-embedding-ada-002\",\n      \"object\": \"model\",\n      \"created\": 1671217299,\n      \"owned_by\": \"openai-internal\",\n      \"permission\": [\n        {\n          \"id\": \"modelperm-3CHFWKFOxoHOkxoXbC5RbqVs\",\n          \"object\": \"model_permission\",\n          \"created\": 1689805387,\n          \"allow_create_engine\": false,\n          \"allow_sampling\": true,\n          \"allow_logprobs\": true,\n          \"allow_search_indices\": true,\n          \"allow_view\": true,\n          \"allow_fine_tuning\": false,\n          \"organization\": \"*\",\n          \"group\": null,\n          \"is_blocking\": false\n        }\n      ],\n      \"root\": \"text-embedding-ada-002\",\n      \"parent\": null\n    },\n    {\n      \"id\": \"curie\",\n      \"object\": \"model\",\n      \"created\": 1649359874,\n      \"owned_by\": \"openai\",\n      \"permission\": [\n        {\n          \"id\": \"modelperm-oPaljeveTjEIDbhDjzFiyf4V\",\n          \"object\": \"model_permission\",\n          \"created\": 1675106503,\n          \"allow_create_engine\": false,\n          \"allow_sampling\": true,\n          \"allow_logprobs\": true,\n          \"allow_search_indices\": false,\n          \"allow_view\": true,\n          \"allow_fine_tuning\": false,\n          \"organization\": \"*\",\n          \"group\": null,\n          \"is_blocking\": false\n        }\n      ],\n      \"root\": \"curie\",\n      \"parent\": null\n    },\n    {\n      \"id\": \"text-similarity-davinci-001\",\n      \"object\": \"model\",\n      \"created\": 1651172505,\n      \"owned_by\": \"openai-dev\",\n      \"permission\": [\n        {\n          \"id\": \"modelperm-OvmcfYoq5V9SF9xTYw1Oz6Ue\",\n          \"object\": \"model_permission\",\n          \"created\": 1669066356,\n          \"allow_create_engine\": false,\n          \"allow_sampling\": true,\n          \"allow_logprobs\": true,\n          \"allow_search_indices\": true,\n          \"allow_view\": true,\n          \"allow_fine_tuning\": false,\n          \"organization\": \"*\",\n          \"group\": null,\n          \"is_blocking\": false\n        }\n      ],\n      \"root\": \"text-similarity-davinci-001\",\n      \"parent\": null\n    },\n    {\n      \"id\": \"gpt-3.5-turbo-0613\",\n      \"object\": \"model\",\n      \"created\": 1686587434,\n      \"owned_by\": \"openai\",\n      \"permission\": [\n        {\n          \"id\": \"modelperm-JMO2Xu1MVUUJtB1JCSrXUZj8\",\n          \"object\": \"model_permission\",\n          \"created\": 1689885338,\n          \"allow_create_engine\": false,\n          \"allow_sampling\": true,\n          \"allow_logprobs\": true,\n          \"allow_search_indices\": false,\n          \"allow_view\": true,\n          \"allow_fine_tuning\": false,\n          \"organization\": \"*\",\n          \"group\": null,\n          \"is_blocking\": false\n        }\n      ],\n      \"root\": \"gpt-3.5-turbo-0613\",\n      \"parent\": null\n    },\n    {\n      \"id\": \"davinci-similarity\",\n      \"object\": \"model\",\n      \"created\": 1651172509,\n      \"owned_by\": \"openai-dev\",\n      \"permission\": [\n        {\n          \"id\": \"modelperm-lYYgng3LM0Y97HvB5CDc8no2\",\n          \"object\": \"model_permission\",\n          \"created\": 1669066353,\n          \"allow_create_engine\": false,\n          \"allow_sampling\": true,\n          \"allow_logprobs\": true,\n          \"allow_search_indices\": true,\n          \"allow_view\": true,\n          \"allow_fine_tuning\": false,\n          \"organization\": \"*\",\n          \"group\": null,\n          \"is_blocking\": false\n        }\n      ],\n      \"root\": \"davinci-similarity\",\n      \"parent\": null\n    },\n    {\n      \"id\": \"gpt-3.5-turbo\",\n      \"object\": \"model\",\n      \"created\": 1677610602,\n      \"owned_by\": \"openai\",\n      \"permission\": [\n        {\n          \"id\": \"modelperm-ILldYg889l2lED1b99xWEfey\",\n          \"object\": \"model_permission\",\n          \"created\": 1689885359,\n          \"allow_create_engine\": false,\n          \"allow_sampling\": true,\n          \"allow_logprobs\": true,\n          \"allow_search_indices\": false,\n          \"allow_view\": true,\n          \"allow_fine_tuning\": false,\n          \"organization\": \"*\",\n          \"group\": null,\n          \"is_blocking\": false\n        }\n      ],\n      \"root\": \"gpt-3.5-turbo\",\n      \"parent\": null\n    }\n  ]\n}"
     },
     "execution_count": 3,
     "metadata": {},
     "output_type": "execute_result"
    }
   ],
   "source": [
    "openai.Model.list()"
   ],
   "metadata": {
    "collapsed": false,
    "ExecuteTime": {
     "end_time": "2023-07-28T08:32:45.797508900Z",
     "start_time": "2023-07-28T08:32:44.968726800Z"
    }
   }
  },
  {
   "cell_type": "code",
   "execution_count": 6,
   "outputs": [],
   "source": [
    "message = 'Привет, какая у тебя версия?'"
   ],
   "metadata": {
    "collapsed": false,
    "ExecuteTime": {
     "end_time": "2023-07-28T11:21:36.147901700Z",
     "start_time": "2023-07-28T11:21:36.127955600Z"
    }
   }
  },
  {
   "cell_type": "code",
   "execution_count": 9,
   "outputs": [],
   "source": [
    "system_msg = \"\"\"Имеется текст, распознанный из чека.  В распознанном тексте могут быть опечатки и лишние символы, которые должны быть удалены. Нужно преобразовать это в следующий формат:\n",
    "1) Название позиции в чеке -> сумма за позицию\n",
    "2) ...\n",
    "Кроме перечисления позиций чека и стоимости каждой позиции никакой дополнительной информации писать не нужно.\n",
    "\n",
    "Вот несколько примеров:\n",
    "На входе:\n",
    "'''\n",
    "Йдрес:ул.Байтурсынова а 159 кв\n",
    "\n",
    "Тел 8(727) 2928738\n",
    "Чек # Стол # 25 Гостей 3\n",
    "10-03-2023 Открыт 19:40 — Закрыт\n",
    "\n",
    "Кассир:\n",
    "Официант: Йружан\n",
    "\n",
    "Биюдо Кол-во Сумма\n",
    "\n",
    "Роли Филадельфия вауна ы 16350.00\n",
    "Ропл Канадский Н 5650.00)\n",
    "Чай Семь самураев 11 72 5000.00\n",
    "Споуа Ог19ла] ние у 17000.00\n",
    "Всего; 44000.00\n",
    "Обсиьживание 10% 44400.00\n",
    "\n",
    "Итого к оплате: 48400.00\n",
    "\n",
    "48400.00\n",
    "\n",
    "Вознаграждение официанты приветствуется\n",
    "но всегда остается на Ваше усмотрение.\n",
    "'''\n",
    "\n",
    "На выходе:\n",
    "'''\n",
    "Роли Филадельфия рауна -> 16350\n",
    "Ропл Канадский -> 5650\n",
    "Чай Семь самураев -> 5000\n",
    "Choya Original White -> 17000\n",
    "'''\n",
    "На входе:\n",
    "'''\n",
    "Рег’ 8\n",
    "РАеавап\" Геа{Иег\n",
    "Епо\\АэА Руб\n",
    "‚, Пр, Достык 116\n",
    "7711 980-81-81\n",
    "Стол # 109 Гостей 3\n",
    "Открыт 18:55 Печать 29:40\n",
    "ур: Влад Великан\n",
    "Официант: Влад Великан\n",
    "\n",
    "Блюдо Я\n",
    "Сырные шарики 2.00 Бо. 00\n",
    "Стейк миньон 1.00 5490.00\n",
    "фуллер’с Хани Дью 12.00 23880.00\n",
    "560мл\n",
    "\n",
    "Стейк рибай б/к 1.00 — 5990.00\n",
    "Утиная грудка 1.00 — 2990.00\n",
    "\n",
    "41930.00\n",
    "3774.00\n",
    "45704.00\n",
    "\n",
    "45704.00\n",
    "\n",
    "тенге на чай,\n",
    "'''\n",
    "На выходе:\n",
    "'''\n",
    "Сырные шарики -> 3680\n",
    "Стейк миньон -> 5490\n",
    "фуллер’с Хани Дью -> 23880\n",
    "Стейк рибай б/к -> 5990\n",
    "Утиная грудка -> 2990\n",
    "'''\n",
    "На входе:\n",
    "'''\n",
    "Е5ргеззо Ваг Азкапа 1\n",
    "Чек #184440 Стол 10 51\n",
    "22.12.2020 Открыт 16:46 Печат\n",
    "Кассир: — стажер\n",
    "Официант: Анастасия\n",
    "\n",
    "Сумма\n",
    "Блюдо\n",
    "\n",
    "Гляссе р\n",
    "д 900.\n",
    "Латте большой . 200.00\n",
    "4 ‚Маршмеллоу т . 1800.00\n",
    "Чай имбирно-мятный\n",
    "длЯ двоих\n",
    "\n",
    "3900.00\n",
    "\n",
    "\n",
    "'''\n",
    "На выходе:\n",
    "'''\n",
    "Гляссе -> 1000\n",
    "Латте большой -> 900\n",
    "Маршмеллоу -> 200\n",
    "Чай имбирно-мятный длЯ двоих -> 1800\n",
    "''''\n",
    "\"\"\""
   ],
   "metadata": {
    "collapsed": false,
    "ExecuteTime": {
     "end_time": "2023-07-28T11:25:31.601054700Z",
     "start_time": "2023-07-28T11:25:31.583109Z"
    }
   }
  },
  {
   "cell_type": "code",
   "execution_count": 10,
   "outputs": [],
   "source": [
    "user_msg = \"\"\"'На входе:\n",
    "'''\n",
    "ХУ КУК\n",
    "\n",
    "Мой ресторан ТОО \"Три казана\"\n",
    "\n",
    "ХУЖЕ\n",
    "ГОСТЕВОЙ СЧЕТ\n",
    "\n",
    "Зал: Зал Стол: 5\n",
    "\n",
    "Открыт: 02.06.2022 12:23 Заказ № 23413\n",
    "\n",
    "Официант: Индира официант\n",
    "\n",
    "ПЛОВ ТАШКЕНТСКИЙ 5 070,00\n",
    "ПЛОВ САМАРКАНДСКИЙ (ЗИГИ 1 690,00\n",
    "Р 01)\n",
    "\n",
    "Лепешка тандырная\n",
    "\n",
    "Компот 1л.\n",
    "\n",
    "Самса с говядиной\n",
    "\n",
    "Полная сумма; 8 560,00\n",
    "Надбавка \"Обслуживание 10%\" (+10% +856,00\n",
    "\n",
    "):\n",
    "ИТОГО К ОПЛАТЕ; 9 416,00\n",
    "\n",
    "СПАСИБО! ЖДЕМ ВАС СНОВА!\n",
    "\n",
    "'''\n",
    "На выходе:'\n",
    "\"\"\""
   ],
   "metadata": {
    "collapsed": false,
    "ExecuteTime": {
     "end_time": "2023-07-28T11:25:32.055319100Z",
     "start_time": "2023-07-28T11:25:32.015426100Z"
    }
   }
  },
  {
   "cell_type": "code",
   "execution_count": 11,
   "outputs": [],
   "source": [
    "message = [{\"role\": \"system\", \"content\": system_msg}, {\"role\": \"user\", \"content\": user_msg}]"
   ],
   "metadata": {
    "collapsed": false,
    "ExecuteTime": {
     "end_time": "2023-07-28T11:25:48.909644300Z",
     "start_time": "2023-07-28T11:25:48.882715500Z"
    }
   }
  },
  {
   "cell_type": "code",
   "execution_count": 19,
   "outputs": [
    {
     "name": "stdout",
     "output_type": "stream",
     "text": [
      "'''\n",
      "ПЛОВ ТАШКЕНТСКИЙ -> 5070\n",
      "ПЛОВ САМАРКАНДСКИЙ (ЗИГИ -> 1690\n",
      "Лепешка тандырная -> \n",
      "Компот 1л. -> \n",
      "Самса с говядиной -> \n",
      "'''\n"
     ]
    }
   ],
   "source": [
    "response = openai.ChatCompletion.create(\n",
    "    model=\"gpt-3.5-turbo\",\n",
    "    messages = message,\n",
    "    temperature=0.2,\n",
    "    max_tokens=1000,\n",
    "    frequency_penalty=0.0\n",
    ")\n",
    "\n",
    "print(response.choices[0].message.content)"
   ],
   "metadata": {
    "collapsed": false,
    "ExecuteTime": {
     "end_time": "2023-07-28T11:28:08.688117100Z",
     "start_time": "2023-07-28T11:28:05.367036300Z"
    }
   }
  },
  {
   "cell_type": "code",
   "execution_count": null,
   "outputs": [],
   "source": [],
   "metadata": {
    "collapsed": false
   }
  },
  {
   "cell_type": "code",
   "execution_count": null,
   "outputs": [],
   "source": [
    "'''\n",
    "Йдрес:ул.Байтурсынова а 159 кв\n",
    "\n",
    "Тел 8(727) 2928738\n",
    "Чек # Стол # 25 Гостей 3\n",
    "10-03-2023 Открыт 19:40 — Закрыт\n",
    "\n",
    "Кассир:\n",
    "Официант: Йружан\n",
    "\n",
    "Биюдо Кол-во Сумма\n",
    "\n",
    "Роли Филадельфия вауна ы 16350.00\n",
    "Ропл Канадский Н 5650.00)\n",
    "Чай Семь самураев 11 72 5000.00\n",
    "Споуа Ог19ла] ние у 17000.00\n",
    "Всего; 44000.00\n",
    "Обсиьживание 10% 44400.00\n",
    "\n",
    "Итого к оплате: 48400.00\n",
    "\n",
    "48400.00\n",
    "\n",
    "Вознаграждение официанты приветствуется\n",
    "но всегда остается на Ваше усмотрение.\n",
    "'''\n",
    "\n",
    "'''\n",
    "Роли Филадельфия рауна -> 16350\n",
    "Ропл Канадский -> 5650\n",
    "Чай Семь самураев -> 5000\n",
    "Choya Original White -> 17000\n",
    "'''\n"
   ],
   "metadata": {
    "collapsed": false
   }
  },
  {
   "cell_type": "code",
   "execution_count": 7,
   "outputs": [
    {
     "ename": "SyntaxError",
     "evalue": "invalid character '’' (U+2019) (1389889690.py, line 1)",
     "output_type": "error",
     "traceback": [
      "\u001B[1;36m  Input \u001B[1;32mIn [7]\u001B[1;36m\u001B[0m\n\u001B[1;33m    Рег’ 8\u001B[0m\n\u001B[1;37m       ^\u001B[0m\n\u001B[1;31mSyntaxError\u001B[0m\u001B[1;31m:\u001B[0m invalid character '’' (U+2019)\n"
     ]
    }
   ],
   "source": [
    "'''\n",
    "Рег’ 8\n",
    "РАеавап\" Геа{Иег\n",
    "Епо\\АэА Руб\n",
    "‚, Пр, Достык 116\n",
    "7711 980-81-81\n",
    "Стол # 109 Гостей 3\n",
    "Открыт 18:55 Печать 29:40\n",
    "ур: Влад Великан\n",
    "Официант: Влад Великан\n",
    "\n",
    "Блюдо Я\n",
    "Сырные шарики 2.00 Бо. 00\n",
    "Стейк миньон 1.00 5490.00\n",
    "фуллер’с Хани Дью 12.00 23880.00\n",
    "560мл\n",
    "\n",
    "Стейк рибай б/к 1.00 — 5990.00\n",
    "Утиная грудка 1.00 — 2990.00\n",
    "\n",
    "41930.00\n",
    "3774.00\n",
    "45704.00\n",
    "\n",
    "45704.00\n",
    "\n",
    "тенге на чай,\n",
    "'''\n",
    "'''\n",
    "Сырные шарики -> 3680\n",
    "Стейк миньон -> 5490\n",
    "фуллер’с Хани Дью -> 23880\n",
    "Стейк рибай б/к -> 5990\n",
    "Утиная грудка -> 2990\n",
    "'''"
   ],
   "metadata": {
    "collapsed": false,
    "ExecuteTime": {
     "end_time": "2023-07-28T10:39:56.179101400Z",
     "start_time": "2023-07-28T10:39:56.137737400Z"
    }
   }
  },
  {
   "cell_type": "code",
   "execution_count": 7,
   "outputs": [],
   "source": [
    "'''\n",
    "Е5ргеззо Ваг Азкапа 1\n",
    "Чек #184440 Стол 10 51\n",
    "22.12.2020 Открыт 16:46 Печат\n",
    "Кассир: — стажер\n",
    "Официант: Анастасия\n",
    "\n",
    "Сумма\n",
    "Блюдо\n",
    "\n",
    "Гляссе р\n",
    "д 900.\n",
    "Латте большой . 200.00\n",
    "4 ‚Маршмеллоу т . 1800.00\n",
    "Чай имбирно-мятный\n",
    "длЯ двоих\n",
    "\n",
    "3900.00\n",
    "\n",
    "\n",
    "'''\n",
    "\n",
    "'''\n",
    "Гляссе -> 1000\n",
    "Латте большой -> 900\n",
    "Маршмеллоу -> 200\n",
    "Чай имбирно-мятный длЯ двоих -> 1800\n",
    "'''"
   ],
   "metadata": {
    "collapsed": false,
    "ExecuteTime": {
     "end_time": "2023-07-28T10:39:56.345286800Z",
     "start_time": "2023-07-28T10:39:56.313373200Z"
    }
   }
  },
  {
   "cell_type": "code",
   "execution_count": null,
   "outputs": [],
   "source": [],
   "metadata": {
    "collapsed": false
   }
  }
 ],
 "metadata": {
  "kernelspec": {
   "display_name": "Python 3",
   "language": "python",
   "name": "python3"
  },
  "language_info": {
   "codemirror_mode": {
    "name": "ipython",
    "version": 2
   },
   "file_extension": ".py",
   "mimetype": "text/x-python",
   "name": "python",
   "nbconvert_exporter": "python",
   "pygments_lexer": "ipython2",
   "version": "2.7.6"
  }
 },
 "nbformat": 4,
 "nbformat_minor": 0
}
